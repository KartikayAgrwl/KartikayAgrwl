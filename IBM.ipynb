{
  "metadata": {
    "language_info": {
      "codemirror_mode": {
        "name": "python",
        "version": 3
      },
      "file_extension": ".py",
      "mimetype": "text/x-python",
      "name": "python",
      "nbconvert_exporter": "python",
      "pygments_lexer": "ipython3",
      "version": "3.8"
    },
    "kernelspec": {
      "name": "python",
      "display_name": "Python (Pyodide)",
      "language": "python"
    }
  },
  "nbformat_minor": 4,
  "nbformat": 4,
  "cells": [
    {
      "cell_type": "code",
      "source": "#Awesome\n\n",
      "metadata": {
        "trusted": true
      },
      "execution_count": 6,
      "outputs": []
    },
    {
      "cell_type": "code",
      "source": "## Introduction\n\n## Welcome to my Jupyter Notebook!",
      "metadata": {
        "trusted": true
      },
      "execution_count": 8,
      "outputs": []
    },
    {
      "cell_type": "code",
      "source": "### Data Science Languages\n\n# Python\n# R\n# Julia\n# SQL\n# Scala",
      "metadata": {
        "trusted": true
      },
      "execution_count": 10,
      "outputs": []
    },
    {
      "cell_type": "code",
      "source": "### Data Science Libraries\n\nHere are some common data science libraries:\n\n- Pandas\n- NumPy\n- Matplotlib\n- Seaborn\n- Scikit-Learn\n- TensorFlow\n- Keras\n- PyTorch",
      "metadata": {
        "trusted": true
      },
      "execution_count": 11,
      "outputs": [
        {
          "ename": "<class 'SyntaxError'>",
          "evalue": "invalid syntax (<ipython-input-11-f2dbc3273a72>, line 3)",
          "traceback": [
            "\u001b[0;36m  Cell \u001b[0;32mIn[11], line 3\u001b[0;36m\u001b[0m\n\u001b[0;31m    Here are some common data science libraries:\u001b[0m\n\u001b[0m         ^\u001b[0m\n\u001b[0;31mSyntaxError\u001b[0m\u001b[0;31m:\u001b[0m invalid syntax\n"
          ],
          "output_type": "error"
        }
      ]
    },
    {
      "cell_type": "code",
      "source": "### Data Science Tools\n\n| Tool            | Description                             |\n|-----------------|-----------------------------------------|\n| Jupyter Notebook | Interactive computing environment       |\n| RStudio         | Integrated development environment for R |\n| GitHub          | Version control and collaboration platform |\n| Python          | High-level programming language for data science |\n| R               | Statistical computing and graphics      |\n| SQL             | Database query language                  |\n| TensorFlow      | Machine learning framework               |\n| Scikit-Learn    | Machine learning library in Python       |\n| Matplotlib      | Data visualization library in Python     |\n| Pandas          | Data manipulation and analysis in Python |\n",
      "metadata": {
        "trusted": true
      },
      "execution_count": 12,
      "outputs": [
        {
          "ename": "<class 'SyntaxError'>",
          "evalue": "invalid syntax (<ipython-input-12-41b134f6ec1f>, line 3)",
          "traceback": [
            "\u001b[0;36m  Cell \u001b[0;32mIn[12], line 3\u001b[0;36m\u001b[0m\n\u001b[0;31m    | Tool            | Description                             |\u001b[0m\n\u001b[0m    ^\u001b[0m\n\u001b[0;31mSyntaxError\u001b[0m\u001b[0;31m:\u001b[0m invalid syntax\n"
          ],
          "output_type": "error"
        }
      ]
    },
    {
      "cell_type": "code",
      "source": "### Arithmetic Expression Example \nLet's explore some basic arithmetic operations:\n\n- **Addition:** `3 + 5` equals 8.\n- **Subtraction:** `10 - 4` equals 6.\n- **Multiplication:** `6 * 7` equals 42.\n- **Division:** `15 / 3` equals 5.\n- **Exponentiation:** `2^3` equals 8.",
      "metadata": {
        "trusted": true
      },
      "execution_count": 23,
      "outputs": [
        {
          "ename": "<class 'SyntaxError'>",
          "evalue": "invalid syntax (<ipython-input-23-8cd8420c2573>, line 2)",
          "traceback": [
            "\u001b[0;36m  Cell \u001b[0;32mIn[23], line 2\u001b[0;36m\u001b[0m\n\u001b[0;31m    Addition'3 + 5' == 8\u001b[0m\n\u001b[0m            ^\u001b[0m\n\u001b[0;31mSyntaxError\u001b[0m\u001b[0;31m:\u001b[0m invalid syntax\n"
          ],
          "output_type": "error"
        }
      ]
    },
    {
      "cell_type": "code",
      "source": "result = 3 * 5 + 2\nresult",
      "metadata": {
        "trusted": true
      },
      "execution_count": 29,
      "outputs": [
        {
          "execution_count": 29,
          "output_type": "execute_result",
          "data": {
            "text/plain": "17"
          },
          "metadata": {}
        }
      ]
    },
    {
      "cell_type": "code",
      "source": "minutes = 120\nhours = minutes / 60\nhours",
      "metadata": {
        "trusted": true
      },
      "execution_count": 30,
      "outputs": [
        {
          "execution_count": 30,
          "output_type": "execute_result",
          "data": {
            "text/plain": "2.0"
          },
          "metadata": {}
        }
      ]
    },
    {
      "cell_type": "code",
      "source": "### Objectives\n\n#In this Jupyter Notebook, we aim to achieve the following objectives:\n\n#1. Explore data science languages and libraries.\n#2. Perform basic arithmetic operations.\n#3. Convert minutes to hours using Python.",
      "metadata": {
        "trusted": true
      },
      "execution_count": 31,
      "outputs": []
    },
    {
      "cell_type": "code",
      "source": "#**Kartikay**",
      "metadata": {
        "trusted": true
      },
      "execution_count": 33,
      "outputs": [
        {
          "ename": "<class 'SyntaxError'>",
          "evalue": "invalid syntax (<ipython-input-33-3f36f5b19113>, line 1)",
          "traceback": [
            "\u001b[0;36m  Cell \u001b[0;32mIn[33], line 1\u001b[0;36m\u001b[0m\n\u001b[0;31m    **Kartikay**\u001b[0m\n\u001b[0m    ^\u001b[0m\n\u001b[0;31mSyntaxError\u001b[0m\u001b[0;31m:\u001b[0m invalid syntax\n"
          ],
          "output_type": "error"
        }
      ]
    },
    {
      "cell_type": "code",
      "source": "",
      "metadata": {},
      "execution_count": null,
      "outputs": []
    }
  ]
}